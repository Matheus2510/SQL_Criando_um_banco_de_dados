{
 "cells": [
  {
   "cell_type": "markdown",
   "metadata": {},
   "source": [
    "# Tabela Clientes"
   ]
  },
  {
   "cell_type": "code",
   "execution_count": null,
   "metadata": {},
   "outputs": [],
   "source": [
    "#Necessário instalar caso ainda não tenha sido. Será utilizada para comunicação com o Postgresql\n",
    "pip install psycopg2"
   ]
  },
  {
   "cell_type": "code",
   "execution_count": 2,
   "metadata": {},
   "outputs": [],
   "source": [
    "#Importando bibliotecas necessárias\n",
    "import pandas as pd #Ajuda no tratamento dos dados\n",
    "import numpy as np #Ajuda no tratamento dos dados\n",
    "import psycopg2 #Ajuda na conexão com o banco de dados Postgresql"
   ]
  },
  {
   "cell_type": "code",
   "execution_count": 2,
   "metadata": {},
   "outputs": [],
   "source": [
    "#Definindo os clientes e seus códigos\n",
    "clientes = {'MONBAN':'Moneymaker Bank',\n",
    "            'COMCUR':'Comida Cura',\n",
    "            'DOMMUS':'Dominó Music',\n",
    "            'FRESPO':'FreeSpirit Sports',\n",
    "            'CATELE':'Cat Electronics',\n",
    "            'SUNBED':'SunnySide Bed',\n",
    "            'FIRWEA':'FirstClass Wearing',\n",
    "            'LEGHAIR':'Legend Hair'}"
   ]
  },
  {
   "cell_type": "code",
   "execution_count": 3,
   "metadata": {},
   "outputs": [],
   "source": [
    "#Preparando listas para criação de dataframe\n",
    "cod_clientes_list = [key for key in clientes]\n",
    "clientes_list = [clientes[key] for key in clientes]"
   ]
  },
  {
   "cell_type": "code",
   "execution_count": 4,
   "metadata": {},
   "outputs": [],
   "source": [
    "#Criando tabela de clientes\n",
    "tab_clientes = pd.DataFrame({'Cod_Cliente':cod_clientes_list,\n",
    "                             'Cliente':clientes_list})"
   ]
  },
  {
   "cell_type": "code",
   "execution_count": 3,
   "metadata": {},
   "outputs": [],
   "source": [
    "# Função para criar conexão no banco\n",
    "def conecta_db():\n",
    "  con = psycopg2.connect(host='localhost', \n",
    "                         database='assessoria_sac',\n",
    "                         user='postgres', \n",
    "                         password='senha') #Informações devem ser alteradas para o código funcionar em outra máquina\n",
    "  return con"
   ]
  },
  {
   "cell_type": "code",
   "execution_count": 4,
   "metadata": {},
   "outputs": [],
   "source": [
    "#Função para inserir dados na tabela clientes (ainda vazia)\n",
    "def inserir_db(query):\n",
    "    con = conecta_db() #Conecta ao banco de dados\n",
    "    cur = con.cursor() #Cria um cursor\n",
    "    try:\n",
    "        cur.execute(query) #Executa uma query\n",
    "        con.commit() #Finaliza a execução da query\n",
    "    except (Exception, psycopg2.DatabaseError) as error:\n",
    "        print(\"Error: %s\" % error)\n",
    "        con.rollback() #Desfaz alterações em caso de erro\n",
    "        cur.close() #Finaliza a conexão com o do cursor com o banco\n",
    "    cur.close() #Finaliza a conexão do cursor com o banco"
   ]
  },
  {
   "cell_type": "code",
   "execution_count": 7,
   "metadata": {},
   "outputs": [],
   "source": [
    "#Realiza a inclusão dos dados na tabela vazia, linha a linha\n",
    "for i in tab_clientes.index:\n",
    "    query = \"\"\"\n",
    "    INSERT into public.clientes (cod_cliente,cliente) \n",
    "    values('%s','%s');\n",
    "    \"\"\" % (tab_clientes['Cod_Cliente'][i], tab_clientes['Cliente'][i])\n",
    "    inserir_db(query)"
   ]
  },
  {
   "cell_type": "markdown",
   "metadata": {},
   "source": [
    "# Tabela Cargos"
   ]
  },
  {
   "cell_type": "code",
   "execution_count": 8,
   "metadata": {},
   "outputs": [],
   "source": [
    "#Definindo os clientes e seus códigos, no formato 'Código: [Cargo, horas de expediente, salario]'\n",
    "cargos = {'AGEATE':['Agente de Teleatendimento', 6, 1500],\n",
    "         'SUPERV':['Supervisor', 8, 2500],\n",
    "         'MONQUA':['Monitor de Qualidade', 8, 2000],\n",
    "         'INSTRE':['Instrutor de Treinamento', 8, 2250],\n",
    "         'COORDE':['Coordenador', 8, 3750],\n",
    "         'GERENT':['Gerente', 8, 5600]}"
   ]
  },
  {
   "cell_type": "code",
   "execution_count": 10,
   "metadata": {},
   "outputs": [],
   "source": [
    "#Preparando listas para criação de dataframe\n",
    "cod_cargos_list = [key for key in cargos]\n",
    "cargos_list = [cargos[key][0] for key in cargos]\n",
    "horas_expediente_list = [cargos[key][1] for key in cargos]\n",
    "salarios_list = [cargos[key][2] for key in cargos]"
   ]
  },
  {
   "cell_type": "code",
   "execution_count": 16,
   "metadata": {},
   "outputs": [],
   "source": [
    "#Criando tabela de clientes\n",
    "tab_cargos = pd.DataFrame({'Cod_Cargo':cod_cargos_list,\n",
    "                           'Cargo':cargos_list,\n",
    "                           'Horas_Expediente':horas_expediente_list,\n",
    "                           'Salario':salarios_list})"
   ]
  },
  {
   "cell_type": "code",
   "execution_count": 17,
   "metadata": {},
   "outputs": [],
   "source": [
    "#Para carregar os dados nessa tabela, utilizaremos as mesmas funções criadas para a tabela clientes\n",
    "for i in tab_cargos.index:\n",
    "    query = \"\"\"\n",
    "    INSERT into public.cargos (cod_cargo,cargo,horas_expediente,salario) \n",
    "    values('%s','%s','%s','%s');\n",
    "    \"\"\" % (tab_cargos['Cod_Cargo'][i], tab_cargos['Cargo'][i],tab_cargos['Horas_Expediente'][i],tab_cargos['Salario'][i])\n",
    "    inserir_db(query)"
   ]
  },
  {
   "cell_type": "markdown",
   "metadata": {},
   "source": [
    "# Tabela Tamanho das Operações"
   ]
  },
  {
   "cell_type": "code",
   "execution_count": 52,
   "metadata": {
    "scrolled": true
   },
   "outputs": [],
   "source": [
    "#Preparando listas para criação de dataframe\n",
    "cod_clientes_list = [key for key in clientes]\n",
    "\n",
    "import random #Necessário para gerar números aleatórios\n",
    "\n",
    "num_agent_list = [random.randint(50,300) for cliente in cod_clientes_list] #Define o número de agentes necessários para cada\n",
    "#cliente. Para ilustração, as operações serão de pequenos a médios portes (entre 100 e 500 operadores)\n",
    "num_superv_list= [int(num_agent/15) + 1 for num_agent in num_agent_list]#Define o nº de supervisores em cada operação (utilizei \n",
    "#como padrão 1 supervisor para cada 15 agentes)\n",
    "num_monit_list= [int(num_agent/25) + 1 for num_agent in num_agent_list]#Define o nº de monitores em cada operação (utilizei \n",
    "#como padrão 1 monitor para cada 25 agentes)\n",
    "num_inst_list= [int(num_agent/40) + 1 for num_agent in num_agent_list]#Define o nº de instrutores em cada operação (utilizei \n",
    "#como padrão 1 instrutor para cada 25 agentes)\n",
    "num_coord_list= [int(num_agent/100) + 1 for num_agent in num_agent_list]#Define o nº de coordenadores em cada operação (utilizei \n",
    "#como padrão 1 coordenador para cada 25 agentes)"
   ]
  },
  {
   "cell_type": "code",
   "execution_count": 53,
   "metadata": {},
   "outputs": [],
   "source": [
    "#Criando tabela de tamanhos das operações\n",
    "tab_tam_operacao = pd.DataFrame({'Cod_Cliente':cod_clientes_list,\n",
    "                                 'Num_Agentes':num_agent_list,\n",
    "                                 'Num_Supervisores':num_superv_list,\n",
    "                                 'Num_Monitores':num_monit_list,\n",
    "                                 'Num_Instrutores':num_inst_list,\n",
    "                                 'Num_Coordenadores':num_coord_list})"
   ]
  },
  {
   "cell_type": "code",
   "execution_count": 54,
   "metadata": {},
   "outputs": [],
   "source": [
    "#Para carregar os dados nessa tabela, utilizaremos as mesmas funções criadas para a tabela clientes\n",
    "for i in tab_tam_operacao.index:\n",
    "    query = \"\"\"\n",
    "    INSERT into public.tamanho_das_operacoes (cod_cliente,num_agentes,num_supervisores,num_monitores,num_instrutores,\n",
    "    num_coordenadores) \n",
    "    values('%s','%s','%s','%s','%s','%s')\n",
    "    \"\"\" % (tab_tam_operacao['Cod_Cliente'][i], tab_tam_operacao['Num_Agentes'][i],tab_tam_operacao['Num_Supervisores'][i],\n",
    "           tab_tam_operacao['Num_Monitores'][i], tab_tam_operacao['Num_Instrutores'][i], \n",
    "           tab_tam_operacao['Num_Coordenadores'][i])\n",
    "    inserir_db(query)"
   ]
  },
  {
   "cell_type": "markdown",
   "metadata": {},
   "source": [
    "# Tabela Tempo"
   ]
  },
  {
   "cell_type": "code",
   "execution_count": 11,
   "metadata": {},
   "outputs": [],
   "source": [
    "#Inicialmente, criaremos apenas uma serie com dados que abrangem as datas por um período de 2 anos: 2022 e 2023\n",
    "intervalo_datas = list(pd.date_range(pd.to_datetime('2022-01-01'),pd.to_datetime('2023-12-31')))\n",
    "\n",
    "#Criando um dataframe com o intervalo mencionado\n",
    "tab_tempo = pd.DataFrame({'Data':intervalo_datas})\n",
    "\n",
    "#Agora criaremos as outras especificações associadas a cada data\n",
    "tab_tempo['Dia'] = tab_tempo['Data'].apply(lambda x: x.day)\n",
    "tab_tempo['Mes'] = tab_tempo['Data'].apply(lambda x: x.month)\n",
    "tab_tempo['Ano'] = tab_tempo['Data'].apply(lambda x: x.year)\n",
    "tab_tempo['Dia_Semana'] = tab_tempo['Data'].apply(lambda x: x.isocalendar()[2]) #Segunda é o dia 1 e domingo é o dia 7\n",
    "tab_tempo['Semana'] = tab_tempo['Data'].apply(lambda x: x.isocalendar()[1])\n",
    "\n",
    "#Criaremos um dicionário para auxiliar na definição dos bimestres, trimestres e semestres a que cada data pertence\n",
    "\n",
    "meses =  {1:[1,1,1],      \n",
    "          2:[1,1,1],      \n",
    "          3:[2,1,1],      \n",
    "          4:[2,2,1],      \n",
    "          5:[3,2,1],      \n",
    "          6:[3,2,1],      \n",
    "          7:[4,3,2],      \n",
    "          8:[4,3,2],      \n",
    "          9:[5,3,2],      \n",
    "          10:[5,4,2],      \n",
    "          11:[6,4,2],      \n",
    "          12:[6,4,2]}\n",
    "\n",
    "tab_tempo['Bimestre'] = tab_tempo['Mes'].apply(lambda x: meses[x][0])\n",
    "tab_tempo['Trimestre'] = tab_tempo['Mes'].apply(lambda x: meses[x][1])\n",
    "tab_tempo['Semestre'] = tab_tempo['Mes'].apply(lambda x: meses[x][2])\n",
    "\n",
    "#Aqui criaremos uma lista que contém todos os feriados (inclusive facultativos) nacionais de2022 e 2023. Para avaliar se uma\n",
    "#data é um feriado ou não, basta identificar se está contida nessa lista\n",
    "feriados = ['2022-01-01','2022-02-28','2022-03-01','2022-03-02','2022-04-15','2022-04-21','2022-05-01',\n",
    "            '2022-06-16','2022-09-07','2022-10-12','2022-10-28','2022-11-02','2022-11-15','2022-12-25',\n",
    "            '2023-01-01','2023-02-22','2023-04-07','2023-04-21','2023-05-01','2023-06-08','2023-09-07',\n",
    "            '2023-10-12','2023-11-02','2023-11-15','2023-12-25']\n",
    "\n",
    "tab_tempo['Feriado'] = tab_tempo['Data'].apply(lambda x: 'Sim' if str(x.date()) in feriados else 'Não')"
   ]
  },
  {
   "cell_type": "code",
   "execution_count": 13,
   "metadata": {},
   "outputs": [],
   "source": [
    "tab_tempo.head()#Para carregar os dados nessa tabela, utilizaremos as mesmas funções criadas para a tabela clientes\n",
    "for i in tab_tempo.index:\n",
    "    query = \"\"\"\n",
    "    INSERT into public.tempo (data,dia,mes,ano,dia_semana,semana,bimestre,trimestre,semestre,feriado) \n",
    "    values('%s','%s','%s','%s','%s','%s','%s','%s','%s','%s')\n",
    "    \"\"\" % (tab_tempo['Data'][i], tab_tempo['Dia'][i],tab_tempo['Mes'][i], tab_tempo['Ano'][i], \n",
    "           tab_tempo['Dia_Semana'][i], tab_tempo['Semana'][i], tab_tempo['Bimestre'][i], \n",
    "           tab_tempo['Trimestre'][i], tab_tempo['Semestre'][i], tab_tempo['Feriado'][i])\n",
    "    inserir_db(query)"
   ]
  },
  {
   "cell_type": "markdown",
   "metadata": {},
   "source": [
    "# Outras funções úteis"
   ]
  },
  {
   "cell_type": "code",
   "execution_count": null,
   "metadata": {},
   "outputs": [],
   "source": [
    "#Função para atualizar informações em alguma tabela do banco de dados\n",
    "# É bem semelhante à função criada para inserir dados. Possui apenas um incremento que é retornar quantas linhas da\n",
    "#tabela foram atualizadas\n",
    "def atualizar_db(query):\n",
    "    con = conecta_db() #Conecta ao banco de dados\n",
    "    cur = con.cursor() #Cria um cursor\n",
    "    \n",
    "    updated_rows = 0\n",
    "    \n",
    "    try:\n",
    "        cur.execute(query) #Executa uma query\n",
    "        updated_rows = cur.rowcount\n",
    "        con.commit() #Finaliza a execução da query\n",
    "        return updated_rows #Retorna quantas linhas foram atualizadas\n",
    "    except (Exception, psycopg2.DatabaseError) as error:\n",
    "        print(\"Error: %s\" % error)\n",
    "        con.rollback()  #Desfaz alterações em caso de erro\n",
    "        cur.close() #Finaliza a conexão do cursor com o banco\n",
    "    cur.close() #Finaliza a conexão do cursor com o banco\n",
    "\n",
    "\n",
    "#Para deletarmos informações de uma tabela de um banco de dados, é possível utilizar a mesma função criada logo acima.\n",
    "#A diferença será que o retorno da função significará quantas linhas foram deletadas da tabela\n",
    "\n",
    "def deleta_db(query):\n",
    "    con = conecta_db() #Conecta ao banco de dados\n",
    "    cur = con.cursor() #Cria um cursor\n",
    "    \n",
    "    deleted_rows = 0\n",
    "    \n",
    "    try:\n",
    "        cur.execute(query) #Executa uma query\n",
    "        deleted_rows = cur.rowcount\n",
    "        con.commit() #Finaliza a execução da query\n",
    "        return deleted_rows #Retorna quantas linhas foram atualizadas\n",
    "    except (Exception, psycopg2.DatabaseError) as error:\n",
    "        print(\"Error: %s\" % error)\n",
    "        con.rollback()  #Desfaz alterações em caso de erro\n",
    "        cur.close() #Finaliza a conexão do cursor com o banco\n",
    "    cur.close() #Finaliza a conexão do cursor com o banco"
   ]
  }
 ],
 "metadata": {
  "kernelspec": {
   "display_name": "Python 3",
   "language": "python",
   "name": "python3"
  },
  "language_info": {
   "codemirror_mode": {
    "name": "ipython",
    "version": 3
   },
   "file_extension": ".py",
   "mimetype": "text/x-python",
   "name": "python",
   "nbconvert_exporter": "python",
   "pygments_lexer": "ipython3",
   "version": "3.8.5"
  }
 },
 "nbformat": 4,
 "nbformat_minor": 4
}
